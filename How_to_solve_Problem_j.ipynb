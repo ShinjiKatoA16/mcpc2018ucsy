{
 "cells": [
  {
   "cell_type": "markdown",
   "metadata": {},
   "source": [
    "# MCPC 2018 Problem J: Need for Speed\n",
    "\n",
    "This problem is same as Problem-E of 2017 ICPC Final. It is a variation of Candie Problem(ICPC training).\n",
    "This problem can be solved using **simulation** and **binary search**."
   ]
  },
  {
   "cell_type": "markdown",
   "metadata": {},
   "source": [
    "### Input\n",
    "\n",
    "- 1 Line, 1 Integer: Number of Test Case\n",
    "   + 1 Line 2 Integers: Number of sections(n), Total Time(t)\n",
    "      * n Lines: Distance(d), SpeedMeter Reading(s)\n",
    "      \n",
    "### Output\n",
    "\n",
    "- 1 Line per Test case: Offset of SpeedMeter(c)"
   ]
  },
  {
   "cell_type": "markdown",
   "metadata": {},
   "source": [
    "### Sample Input\n",
    "\n",
    "```\n",
    "2\n",
    "3 5\n",
    "4 -1\n",
    "4 0\n",
    "10 3\n",
    "4 10\n",
    "5 3\n",
    "2 2\n",
    "3 6\n",
    "3 1\n",
    "```\n",
    "\n",
    "### Sample Output\n",
    "\n",
    "```\n",
    "3.00\n",
    "-0.51\n",
    "```"
   ]
  },
  {
   "cell_type": "markdown",
   "metadata": {},
   "source": [
    "## 1st Step: Simulation\n",
    "\n",
    "In case of 1st test case of above sample input, following fomula needs to be solved. The bigger the offset(c), the smaller the total time(t).\n",
    "\n",
    "$(4/(-1+c)+(4/(0+c))+(10/(3+c))=5$"
   ]
  },
  {
   "cell_type": "code",
   "execution_count": null,
   "metadata": {},
   "outputs": [],
   "source": [
    "import sys\n",
    "\n",
    "def simulate(c):\n",
    "    '''\n",
    "    c: offset of speed meter\n",
    "    return total time\n",
    "    '''\n",
    "    \n",
    "    ret = ((4/(-1+c)+(4/(0+c))+(10/(3+c))))\n",
    "    # print('simulate:', c, ret, file=sys.stderr)\n",
    "    return ret"
   ]
  },
  {
   "cell_type": "code",
   "execution_count": null,
   "metadata": {},
   "outputs": [],
   "source": [
    "### test\n",
    "print('c=1.1', simulate(1.1))\n",
    "print('c=2', simulate(2))\n",
    "print('c=3', simulate(3))\n",
    "print('c=5', simulate(5))\n",
    "print('c=100', simulate(100))"
   ]
  },
  {
   "cell_type": "markdown",
   "metadata": {},
   "source": [
    "## 2md step: Finding Upper and Lower boudary\n",
    "\n",
    "In order to perform binary search, Lower and Upper boundary need to be decided. In this problem, Lower boundary can be -(minimum SpeedMeter Read(s) value), because $s+c>0$,\n",
    "As for Upper boundary, we need to search it.\n",
    "\n",
    "- Set temporary value, which is bigger than lower value\n",
    "- Simulate with the temporary value, if the result is bigger than total time, use bigger value until big enough"
   ]
  },
  {
   "cell_type": "code",
   "execution_count": null,
   "metadata": {},
   "outputs": [],
   "source": [
    "TOTAL_TIME=10\n",
    "low_bound = 1  # Minimum SpeedMeter Read is -1, -(-1)=1\n",
    "high_bound = abs(low_bound)+1\n",
    "while True:\n",
    "    if simulate(high_bound) < TOTAL_TIME:\n",
    "        break\n",
    "        \n",
    "    low_bound = high_bound  # we can update low_bound here\n",
    "    high_bound *= 2\n",
    "    \n",
    "print('Low Boundary:', low_bound, 'High Boundary:', high_bound)"
   ]
  },
  {
   "cell_type": "markdown",
   "metadata": {},
   "source": [
    "## Binary Search\n",
    "\n",
    "Now we know that the answer is between low and high boundary."
   ]
  },
  {
   "cell_type": "code",
   "execution_count": null,
   "metadata": {},
   "outputs": [],
   "source": [
    "DELTA = 0.001\n",
    "\n",
    "while high_bound-low_bound > DELTA:\n",
    "    mid = (high_bound+low_bound) / 2\n",
    "    calc_time = simulate(mid)\n",
    "    print('Trying:', mid, 'calc_time:', calc_time, file=sys.stderr)\n",
    "    if calc_time == TOTAL_TIME:  # Bingo\n",
    "        high_bound = low_bound = mid\n",
    "    elif calc_time < TOTAL_TIME:  # mid is too big\n",
    "        high_bound = mid\n",
    "    elif calc_time > TOTAL_TIME:  # mid is too small\n",
    "        low_bound = mid\n",
    "    else:                         # should not occur, raise error\n",
    "        raise\n",
    "\n",
    "print(high_bound, low_bound)"
   ]
  },
  {
   "cell_type": "markdown",
   "metadata": {},
   "source": [
    "### Test\n",
    "\n",
    "Please change some parameters and retry."
   ]
  },
  {
   "cell_type": "markdown",
   "metadata": {},
   "source": [
    "## Java sample code\n",
    "\n",
    "```\n",
    "// MCPC 2018 Problem J: Need for Speed\n",
    "\n",
    "import java.util.Scanner ;\n",
    "\n",
    "class prob_j {\n",
    "\n",
    "    static double simulate(int num_sec, int[][] section, double offset) {\n",
    "        double total = 0.0 ;\n",
    "        for (int i=0; i<num_sec; i++) {\n",
    "            total += section[i][0]/(section[i][1]+offset) ;\n",
    "        }\n",
    "        return total ;\n",
    "    }\n",
    "\n",
    "\n",
    "    static void solve(int num_sec, int [][] section, int total_time) {\n",
    "        int min_dist= section[0][1] ;\n",
    "        for (int i=0; i<num_sec; i++) {\n",
    "            if (min_dist > section[i][1]) min_dist = section[i][1] ;\n",
    "        }\n",
    "        double low_bound = (double)(-min_dist) ;\n",
    "        double high_bound = Math.abs(low_bound) + 1.0 ; // > low_bound, >0\n",
    "\n",
    "        // find high_bound\n",
    "        while (true) {\n",
    "            double total = simulate(num_sec, section, high_bound) ;\n",
    "            if (total < (double)total_time) break ;\n",
    "            high_bound += high_bound ;\n",
    "        }\n",
    "        //System.out.printf(\"low: %.5f high: %.5f\\n\", low_bound, high_bound) ;\n",
    "\n",
    "        // binary search\n",
    "        final double max_err=0.001 ;\n",
    "        while (high_bound-low_bound > max_err) {\n",
    "            double mid = (high_bound+low_bound) / 2 ;\n",
    "            double total = simulate(num_sec, section, mid) ;\n",
    "            //System.out.printf(\"mid: %.5f total: %.5f\\n\", mid, total) ;\n",
    "            if (total == (double)total_time) high_bound = low_bound = mid ;\n",
    "            else if (total < (double)total_time) { // too big\n",
    "                high_bound = mid ;\n",
    "            }\n",
    "            else low_bound = mid ;\n",
    "        }\n",
    "\n",
    "        System.out.printf(\"%.2f\\n\", (high_bound+low_bound)/2) ;\n",
    "    }\n",
    "\n",
    "    public static void main(String[] args) {\n",
    "        Scanner sc = new Scanner(System.in) ;\n",
    "        int num_tc = sc.nextInt() ;\n",
    "\n",
    "        for (int tc=0; tc<num_tc; tc++) {\n",
    "            int num_sec = sc.nextInt() ;\n",
    "            int total_time = sc.nextInt() ;\n",
    "            int section[][] = new int[num_sec][2] ;\n",
    "            for (int i=0; i<num_sec; i++) {\n",
    "                section[i][0] = sc.nextInt() ;  // Distance\n",
    "                section[i][1] = sc.nextInt() ;  // SpeedMeter read\n",
    "            }\n",
    "            solve(num_sec, section, total_time) ;\n",
    "        }\n",
    "    }\n",
    "}\n",
    "\n",
    "```"
   ]
  },
  {
   "cell_type": "markdown",
   "metadata": {},
   "source": [
    "## Sympy and Scipy\n",
    "\n",
    "In case of Python, Algebra can be solved using **symbpy** or **scipy**, unfotunately **sympy** and **scipy** are not standard module and can not be used in programming contest such as ICPC."
   ]
  },
  {
   "cell_type": "code",
   "execution_count": 2,
   "metadata": {},
   "outputs": [
    {
     "name": "stdout",
     "output_type": "stream",
     "text": [
      "Test case 1: [3, -7/10 + sqrt(129)/10, -sqrt(129)/10 - 7/10]\n",
      "Test case 2: [-107/40 - sqrt(2009/400 + 1817/(600*(1753/8000 + sqrt(17747502810)*I/72000)**(1/3)) + 2*(1753/8000 + sqrt(17747502810)*I/72000)**(1/3))/2 - sqrt(2009/200 - 2*(1753/8000 + sqrt(17747502810)*I/72000)**(1/3) + 49923/(4000*sqrt(2009/400 + 1817/(600*(1753/8000 + sqrt(17747502810)*I/72000)**(1/3)) + 2*(1753/8000 + sqrt(17747502810)*I/72000)**(1/3))) - 1817/(600*(1753/8000 + sqrt(17747502810)*I/72000)**(1/3)))/2, -107/40 - sqrt(2009/400 + 1817/(600*(1753/8000 + sqrt(17747502810)*I/72000)**(1/3)) + 2*(1753/8000 + sqrt(17747502810)*I/72000)**(1/3))/2 + sqrt(2009/200 - 2*(1753/8000 + sqrt(17747502810)*I/72000)**(1/3) + 49923/(4000*sqrt(2009/400 + 1817/(600*(1753/8000 + sqrt(17747502810)*I/72000)**(1/3)) + 2*(1753/8000 + sqrt(17747502810)*I/72000)**(1/3))) - 1817/(600*(1753/8000 + sqrt(17747502810)*I/72000)**(1/3)))/2, -107/40 + sqrt(2009/400 + 1817/(600*(1753/8000 + sqrt(17747502810)*I/72000)**(1/3)) + 2*(1753/8000 + sqrt(17747502810)*I/72000)**(1/3))/2 - sqrt(2009/200 - 2*(1753/8000 + sqrt(17747502810)*I/72000)**(1/3) - 49923/(4000*sqrt(2009/400 + 1817/(600*(1753/8000 + sqrt(17747502810)*I/72000)**(1/3)) + 2*(1753/8000 + sqrt(17747502810)*I/72000)**(1/3))) - 1817/(600*(1753/8000 + sqrt(17747502810)*I/72000)**(1/3)))/2, -107/40 + sqrt(2009/200 - 2*(1753/8000 + sqrt(17747502810)*I/72000)**(1/3) - 49923/(4000*sqrt(2009/400 + 1817/(600*(1753/8000 + sqrt(17747502810)*I/72000)**(1/3)) + 2*(1753/8000 + sqrt(17747502810)*I/72000)**(1/3))) - 1817/(600*(1753/8000 + sqrt(17747502810)*I/72000)**(1/3)))/2 + sqrt(2009/400 + 1817/(600*(1753/8000 + sqrt(17747502810)*I/72000)**(1/3)) + 2*(1753/8000 + sqrt(17747502810)*I/72000)**(1/3))/2]\n"
     ]
    }
   ],
   "source": [
    "from sympy import Symbol, solve\n",
    "\n",
    "x = Symbol('x', real=True)  ## calc only real number\n",
    "f = 4/(x-1)+4/x+10/(x+3)-5\n",
    "print('Test case 1:', solve(f))\n",
    "\n",
    "g = 5/(x+3)+2/(x+2)+3/(x+6)+3/(x+1)-10\n",
    "print('Test case 2:', solve(g))"
   ]
  },
  {
   "cell_type": "code",
   "execution_count": 41,
   "metadata": {},
   "outputs": [
    {
     "name": "stdout",
     "output_type": "stream",
     "text": [
      "fsolve [-0.50865338]\n",
      "newton -0.5086533767953939\n"
     ]
    }
   ],
   "source": [
    "from scipy import optimize\n",
    "\n",
    "def h(x):\n",
    "    return 5/(x+3)+2/(x+2)+3/(x+6)+3/(x+1)-10\n",
    "    \n",
    "print('fsolve', optimize.fsolve(h, 0))   ## 2nd parameter is the value near the result, low_bound+1 here\n",
    "print('newton', optimize.newton(h, 0))"
   ]
  },
  {
   "cell_type": "code",
   "execution_count": 45,
   "metadata": {},
   "outputs": [
    {
     "data": {
      "text/plain": [
       "-(10*x**4 + 107*x**3 + 354*x**2 + 425*x + 138)/(x**4 + 12*x**3 + 47*x**2 + 72*x + 36)"
      ]
     },
     "execution_count": 45,
     "metadata": {},
     "output_type": "execute_result"
    }
   ],
   "source": [
    "from sympy import simplify\n",
    "simplify(g, ratio=3)"
   ]
  },
  {
   "cell_type": "code",
   "execution_count": 47,
   "metadata": {},
   "outputs": [
    {
     "name": "stdout",
     "output_type": "stream",
     "text": [
      "[-5.76862142 -2.64381466 -1.77891055 -0.50865338]\n"
     ]
    }
   ],
   "source": [
    "from numpy.polynomial.polynomial  import Polynomial\n",
    "\n",
    "p = Polynomial([138, 425, 354, 107, 10])\n",
    "print(p.roots())"
   ]
  },
  {
   "cell_type": "code",
   "execution_count": 1,
   "metadata": {},
   "outputs": [
    {
     "name": "stdout",
     "output_type": "stream",
     "text": [
      "-5.76862142 1.0807564552297866e-07\n",
      "-2.64381466 1.852137141040639e-07\n",
      "-1.77891055 4.135766121592931e-08\n",
      "-0.50865338 4.56037450908601e-08\n"
     ]
    }
   ],
   "source": [
    "# Verify\n",
    "\n",
    "def eval_x(x):\n",
    "    return -(10*x**4 + 107*x**3 + 354*x**2 + 425*x + 138)/(x**4 + 12*x**3 + 47*x**2 + 72*x + 36)\n",
    "\n",
    "vals = [-5.76862142, -2.64381466, -1.77891055, -0.50865338]\n",
    "for v in vals:\n",
    "    print(v, eval_x(v))"
   ]
  },
  {
   "cell_type": "code",
   "execution_count": 4,
   "metadata": {},
   "outputs": [
    {
     "name": "stdout",
     "output_type": "stream",
     "text": [
      "verify with sympy subs\n",
      "-5.76862142 1.08075778992855e-7\n",
      "-2.64381466 1.85213512082782e-7\n",
      "-1.77891055 4.13577927460551e-8\n",
      "-0.50865338 4.56037447804647e-8\n"
     ]
    }
   ],
   "source": [
    "# Verify using sympy\n",
    "\n",
    "print('verify with sympy subs')\n",
    "for v in vals:\n",
    "    print(v, g.subs([(x,v)]))"
   ]
  },
  {
   "cell_type": "code",
   "execution_count": null,
   "metadata": {},
   "outputs": [],
   "source": []
  }
 ],
 "metadata": {
  "kernelspec": {
   "display_name": "Python 3",
   "language": "python",
   "name": "python3"
  },
  "language_info": {
   "codemirror_mode": {
    "name": "ipython",
    "version": 3
   },
   "file_extension": ".py",
   "mimetype": "text/x-python",
   "name": "python",
   "nbconvert_exporter": "python",
   "pygments_lexer": "ipython3",
   "version": "3.6.5"
  }
 },
 "nbformat": 4,
 "nbformat_minor": 2
}
