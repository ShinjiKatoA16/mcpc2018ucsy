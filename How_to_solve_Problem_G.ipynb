{
 "cells": [
  {
   "cell_type": "markdown",
   "metadata": {},
   "source": [
    "# Problem G: Brace Matching\n",
    "\n",
    "Reply 'YES' if given fomula has proper brace matching, otherwise reply 'NO'.\n",
    "\n",
    "### Input\n",
    "\n",
    "- N: Number of test case\n",
    "    + N lines of fomula\n",
    "    \n",
    "### Output\n",
    "\n",
    "for each test case\n",
    "\n",
    "- YES or NO\n",
    "\n",
    "### Sample Input\n",
    "\n",
    "```\n",
    "6\n",
    "[a*(b+c)]\n",
    "a*[b*{c]+d]-e\n",
    "[a+{b*(c-d)+e}]\n",
    "[x*(y-z)\n",
    "x+(x-y)*z)\n",
    "x*(x-y)*[x-z*{x-a}]\n",
    "```\n",
    "\n",
    "### Sample Output\n",
    "\n",
    "```\n",
    "YES\n",
    "NO\n",
    "YES\n",
    "NO\n",
    "NO\n",
    "YES\n",
    "```"
   ]
  },
  {
   "cell_type": "markdown",
   "metadata": {},
   "source": [
    "## How to solve\n",
    "\n",
    "This problem can be easily solved if **STACK** is used. **STACK** is a queue of *Last In First Out* (LIFO). In case of Python, **STACK** can be represented by list (append() and pop() method). In case of Java, **STACK** is provided as a class. (java.util.Stack)"
   ]
  },
  {
   "cell_type": "code",
   "execution_count": null,
   "metadata": {},
   "outputs": [],
   "source": [
    "#!/usr/bin/python3\n",
    "# -*- coding: utf-8 -*-\n",
    "\n",
    "import sys\n",
    "\n",
    "def solve(s):\n",
    "    open_p = ('[', '{', '(')\n",
    "    close_p = (']', '}', ')')\n",
    "    pair = dict(zip(close_p, open_p))  # key: close_p\n",
    "\n",
    "    stack = list()\n",
    "    for c in s:\n",
    "        if c in open_p:\n",
    "            stack.append(c)\n",
    "        if c in close_p:\n",
    "            if len(stack) == 0:\n",
    "                print('NO')\n",
    "                return\n",
    "            top = stack.pop()\n",
    "            if top != pair[c]:\n",
    "                print('NO')\n",
    "                return\n",
    "    if len(stack) != 0:\n",
    "        print('NO')\n",
    "        return\n",
    "    print('YES')\n",
    "    return\n",
    "\n",
    "num_tc = int(sys.stdin.readline())\n",
    "for _ in range(num_tc):\n",
    "    s = sys.stdin.readline().strip()\n",
    "    solve(s)"
   ]
  }
 ],
 "metadata": {
  "kernelspec": {
   "display_name": "Python 3",
   "language": "python",
   "name": "python3"
  },
  "language_info": {
   "codemirror_mode": {
    "name": "ipython",
    "version": 3
   },
   "file_extension": ".py",
   "mimetype": "text/x-python",
   "name": "python",
   "nbconvert_exporter": "python",
   "pygments_lexer": "ipython3",
   "version": "3.6.5"
  }
 },
 "nbformat": 4,
 "nbformat_minor": 2
}
