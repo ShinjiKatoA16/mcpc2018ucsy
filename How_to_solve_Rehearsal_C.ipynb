{
 "cells": [
  {
   "cell_type": "markdown",
   "metadata": {},
   "source": [
    "# How to solve rehearsal problem C: Traversal\n",
    "\n",
    "Binary Tree data is given in Pre-Order(root->left sub tree->right sub tree) and In-order format(left sub tree->root->right sub tree). Reply Post-order(right sub tree->left sub tree->root) format.\n",
    "\n",
    "### Input\n",
    "\n",
    "- Number of test case\n",
    "    + number of node, Pre-Order string, In-Order string\n",
    "    \n",
    "### Output\n",
    "\n",
    "- Post-order string"
   ]
  },
  {
   "cell_type": "markdown",
   "metadata": {},
   "source": [
    "### Sample Input\n",
    "\n",
    "```\n",
    "3\n",
    "3 xYz Yxz\n",
    "3 abc cba\n",
    "6 ABCDEF CBAEDF\n",
    "```\n",
    "\n",
    "### Sample Output\n",
    "\n",
    "```\n",
    "Yzx\n",
    "cba\n",
    "CBEFDA\n",
    "```"
   ]
  },
  {
   "cell_type": "markdown",
   "metadata": {},
   "source": [
    "### How to solve\n",
    "\n",
    "Left sub-tree and right sub-tree can be determined by checking the location of **root** node in in-order string. In case of 3rd example of sample input, **A** is the 3rd character in in-order string, so the length of left sub-tree is 2, length of right sub-tree is 6-2-1=3.\n",
    "\n",
    "Left sub-tree is **BC** (Pre-order) **CB** (In-order), right sub-tree is **DEF** (Pre-order) **EDF** (In-order). Root of left sub-tree is **B**, right sub-tree is **D**.\n",
    "We can handle left and right sub-tree recursively."
   ]
  },
  {
   "cell_type": "code",
   "execution_count": 1,
   "metadata": {},
   "outputs": [
    {
     "name": "stdout",
     "output_type": "stream",
     "text": [
      "Yzx\n",
      "cba\n",
      "CBEFDA\n"
     ]
    }
   ],
   "source": [
    "#!/usr/bin/python3\n",
    "# -*- coding: utf-8 -*-\n",
    "\n",
    "'''\n",
    "MCPC 2018: Rehearsal Problem C: Traversal\n",
    "'''\n",
    "\n",
    "import sys\n",
    "\n",
    "\n",
    "def post_order(pre_o, in_o):\n",
    "    '''\n",
    "    pre_o: String\n",
    "    in_o: String\n",
    "    return List of single string\n",
    "    '''\n",
    "\n",
    "    po = list()   # list of post_order\n",
    "\n",
    "    root = pre_o[0]\n",
    "    left_len = in_o.index(root)\n",
    "    right_len = len(pre_o) - (left_len + 1)\n",
    "\n",
    "    if left_len:\n",
    "        left_pre_o = pre_o[1:left_len+1]  # Not include root\n",
    "        left_in_o = in_o[:left_len]  # Not include root\n",
    "        po.extend(post_order(left_pre_o, left_in_o))\n",
    "\n",
    "    if right_len:\n",
    "        right_pre_o = pre_o[left_len+1:]  # Not include root\n",
    "        right_in_o = in_o[left_len+1:]  # Not include root\n",
    "        po.extend(post_order(right_pre_o, right_in_o))\n",
    "\n",
    "    po.append(root)   # Add root\n",
    "    return po\n",
    "\n",
    "\n",
    "# infile = sys.stdin\n",
    "infile = open('reh_c.in', 'r') \n",
    "\n",
    "num_tc = int(infile.readline())\n",
    "for _ in range(num_tc):\n",
    "    l_str, pre_o, in_o = infile.readline().split()\n",
    "    po = post_order(pre_o, in_o)\n",
    "    print(''.join(po))\n",
    "\n",
    "if infile != sys.stdin:\n",
    "    infile.close()"
   ]
  },
  {
   "cell_type": "markdown",
   "metadata": {},
   "source": [
    "## Excercise\n",
    "\n",
    "- Is it possible to make Pre-order from In-order and Post-order ? \n",
    "- Is it possible to make In-order from Pre-order and Post-order ?"
   ]
  },
  {
   "cell_type": "code",
   "execution_count": null,
   "metadata": {},
   "outputs": [],
   "source": []
  }
 ],
 "metadata": {
  "kernelspec": {
   "display_name": "Python 3",
   "language": "python",
   "name": "python3"
  },
  "language_info": {
   "codemirror_mode": {
    "name": "ipython",
    "version": 3
   },
   "file_extension": ".py",
   "mimetype": "text/x-python",
   "name": "python",
   "nbconvert_exporter": "python",
   "pygments_lexer": "ipython3",
   "version": "3.6.5"
  }
 },
 "nbformat": 4,
 "nbformat_minor": 2
}
