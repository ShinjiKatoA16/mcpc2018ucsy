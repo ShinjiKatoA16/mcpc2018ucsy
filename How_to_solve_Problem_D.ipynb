{
 "cells": [
  {
   "cell_type": "markdown",
   "metadata": {},
   "source": [
    "# Problem D: Round Robin Tournament\n",
    "\n",
    "Calculate the number of match for given team number.\n",
    "\n",
    "### Input\n",
    "\n",
    "- Number of test case\n",
    "    + Number of team, Guessed number of Match\n",
    "    \n",
    "### Output\n",
    "\n",
    "for each test case\n",
    "\n",
    "- CORRECT or INCORRECT, correct number of match if INCORRECT"
   ]
  },
  {
   "cell_type": "markdown",
   "metadata": {},
   "source": [
    "### Sample input\n",
    "\n",
    "```\n",
    "5\n",
    "5 15\n",
    "10 45\n",
    "4 8\n",
    "20 90\n",
    "8 28\n",
    "```\n",
    "\n",
    "### Sample output\n",
    "\n",
    "```\n",
    "INCORRECT 10\n",
    "CORRECT\n",
    "INCORRECT 6\n",
    "INCORRECT 190\n",
    "CORRECT\n",
    "```"
   ]
  },
  {
   "cell_type": "markdown",
   "metadata": {},
   "source": [
    "## How to solve\n",
    "\n",
    "We can add from 1 to $n-1$, but this is a combination of 2 from n (select 2 teams from n teams), $_nC_2 = n\\cdot(n-1)/2$"
   ]
  },
  {
   "cell_type": "code",
   "execution_count": null,
   "metadata": {},
   "outputs": [],
   "source": [
    "#!/usr/bin/python3\n",
    "# -*- coding: utf-8 -*-\n",
    "\n",
    "'''\n",
    "MCPC 2018: Problem D: Round Robin Tournament\n",
    "'''\n",
    "\n",
    "import sys\n",
    "\n",
    "num_tc = int(sys.stdin.readline())\n",
    "for _ in range(num_tc):\n",
    "    team, guess = map(int, sys.stdin.readline().split())\n",
    "    match = team*(team-1)//2  # nC2\n",
    "    if match == guess:\n",
    "        print('CORRECT')\n",
    "    else:\n",
    "        print('INCORRECT', match)"
   ]
  }
 ],
 "metadata": {
  "kernelspec": {
   "display_name": "Python 3",
   "language": "python",
   "name": "python3"
  },
  "language_info": {
   "codemirror_mode": {
    "name": "ipython",
    "version": 3
   },
   "file_extension": ".py",
   "mimetype": "text/x-python",
   "name": "python",
   "nbconvert_exporter": "python",
   "pygments_lexer": "ipython3",
   "version": "3.6.5"
  }
 },
 "nbformat": 4,
 "nbformat_minor": 2
}
