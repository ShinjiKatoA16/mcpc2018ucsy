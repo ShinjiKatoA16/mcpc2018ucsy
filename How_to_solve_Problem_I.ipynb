{
 "cells": [
  {
   "cell_type": "markdown",
   "metadata": {},
   "source": [
    "# Problem I: Babylonian Numbers\n",
    "\n",
    "Conver base-60 number to Decimal.\n",
    "\n",
    "### Input\n",
    "\n",
    "- Number of test case\n",
    "    + Numbers, seperated by comma, in case of 0, no data at the position\n",
    "    \n",
    "### Output\n",
    "\n",
    "for each test case\n",
    "\n",
    "- Decimal value\n",
    "\n",
    "### Sample Input\n",
    "\n",
    "```\n",
    "3\n",
    "41\n",
    "1,24,9\n",
    "1,,,\n",
    "```\n",
    "\n",
    "### Sample Output\n",
    "\n",
    "```\n",
    "41\n",
    "5049\n",
    "216000\n",
    "```"
   ]
  },
  {
   "cell_type": "markdown",
   "metadata": {},
   "source": [
    "## How to solve\n",
    "\n",
    "In case of Python, split() method of string can take additonal parameter to specify the delimiter. It's same as Java, but in case of Java, **-1** shall be specified as limit parameter so that empty string is obtained."
   ]
  },
  {
   "cell_type": "code",
   "execution_count": null,
   "metadata": {},
   "outputs": [],
   "source": [
    "#!/usr/bin/python3\n",
    "# -*- coding: utf-8 -*-\n",
    "\n",
    "import sys\n",
    "\n",
    "def my_int(st):\n",
    "    return 0 if st == '' else int(st)\n",
    "\n",
    "num_tc = int(sys.stdin.readline())\n",
    "for _ in range(num_tc):\n",
    "    s = sys.stdin.readline().strip()  # remove \\n\n",
    "    nums = list(map(my_int,s.split(',')))\n",
    "    val = 0\n",
    "    for n in nums:\n",
    "        val = val*60 + n\n",
    "    print(val)\n"
   ]
  },
  {
   "cell_type": "markdown",
   "metadata": {},
   "source": [
    "## Java sample\n",
    "\n",
    "```\n",
    "// MCPC 2018 Problem I: Babylonian Numbers\n",
    "\n",
    "import java.util.Scanner ;\n",
    "\n",
    "class prob_i {\n",
    "\n",
    "    public static void main(String[] args) {\n",
    "        Scanner sc = new Scanner(System.in) ;\n",
    "        int num_tc = Integer.parseInt(sc.nextLine()) ;\n",
    "\n",
    "        for (int tc=0; tc<num_tc; tc++) {\n",
    "            String s = sc.nextLine() ;\n",
    "            String[] babylon = s.split(\",\", -1) ; // 2nd parameter -1\n",
    "            long total = 0L ;   // 60**8 is 15 digit\n",
    "            for (String c : babylon) {  // python like syntax\n",
    "                long c_val ;\n",
    "                if (c.equals(\"\")) c_val = 0L ;\n",
    "                else c_val = Long.parseLong(c) ;\n",
    "                \n",
    "                total = total*60L + c_val ;\n",
    "            }\n",
    "            System.out.println(total) ;\n",
    "        }\n",
    "    }\n",
    "}\n",
    "```"
   ]
  },
  {
   "cell_type": "code",
   "execution_count": null,
   "metadata": {},
   "outputs": [],
   "source": []
  }
 ],
 "metadata": {
  "kernelspec": {
   "display_name": "Python 3",
   "language": "python",
   "name": "python3"
  },
  "language_info": {
   "codemirror_mode": {
    "name": "ipython",
    "version": 3
   },
   "file_extension": ".py",
   "mimetype": "text/x-python",
   "name": "python",
   "nbconvert_exporter": "python",
   "pygments_lexer": "ipython3",
   "version": "3.6.5"
  }
 },
 "nbformat": 4,
 "nbformat_minor": 2
}
