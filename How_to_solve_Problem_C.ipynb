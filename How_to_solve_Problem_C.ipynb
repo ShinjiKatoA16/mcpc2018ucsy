{
 "cells": [
  {
   "cell_type": "markdown",
   "metadata": {},
   "source": [
    "# Problem C: Pattern Matching\n",
    "\n",
    "### Input\n",
    "\n",
    "- Number of test case\n",
    "    + Sub string to be found\n",
    "    + String to search\n",
    "    \n",
    "### Output\n",
    "\n",
    "For each test case\n",
    "\n",
    "- Number of occurences\n",
    "- Index of each occurences"
   ]
  },
  {
   "cell_type": "markdown",
   "metadata": {},
   "source": [
    "### Sample input\n",
    "\n",
    "```\n",
    "3\n",
    "GATGAT\n",
    "ACTCAGATGATGATTGAAGATGATTGCTCTTAC\n",
    "A B A B\n",
    "A B A B A B D A C D A A B A B C A B A B A B\n",
    "13231\n",
    "112132313231323133221313222113313213231\n",
    "```\n",
    "\n",
    "### Sample output\n",
    "\n",
    "```\n",
    "3\n",
    "5 8 18\n",
    "5\n",
    "0 4 22 32 36\n",
    "4\n",
    "3 7 11 34\n",
    "```"
   ]
  },
  {
   "cell_type": "markdown",
   "metadata": {},
   "source": [
    "## sub-string find method\n",
    "\n",
    "In case of Python, find() method of String returns the index of the sub-string (-1 if not found). find() method can take additional parameter that specified start position.\n",
    "\n",
    "In case of Java, indexOf() method do the same."
   ]
  },
  {
   "cell_type": "code",
   "execution_count": null,
   "metadata": {},
   "outputs": [],
   "source": [
    "#!/usr/bin/python3\n",
    "# -*- coding: utf-8 -*-\n",
    "\n",
    "'''\n",
    "MCPC 2018: Problem C: Pattern Matching\n",
    "'''\n",
    "\n",
    "import sys\n",
    "\n",
    "num_tc = int(sys.stdin.readline())\n",
    "for _ in range(num_tc):\n",
    "    subs = sys.stdin.readline().strip()\n",
    "    s = sys.stdin.readline().strip()\n",
    "    found = 0\n",
    "    f_pos = list()\n",
    "    p_idx = -1\n",
    "    while True:\n",
    "        # print(p_idx, subs, s)\n",
    "        p_idx = s.find(subs, p_idx+1)\n",
    "        if p_idx == -1:\n",
    "            break\n",
    "        found += 1\n",
    "        f_pos.append(str(p_idx))\n",
    "    print(found)\n",
    "    if found: print(' '.join(f_pos))"
   ]
  }
 ],
 "metadata": {
  "kernelspec": {
   "display_name": "Python 3",
   "language": "python",
   "name": "python3"
  },
  "language_info": {
   "codemirror_mode": {
    "name": "ipython",
    "version": 3
   },
   "file_extension": ".py",
   "mimetype": "text/x-python",
   "name": "python",
   "nbconvert_exporter": "python",
   "pygments_lexer": "ipython3",
   "version": "3.6.5"
  }
 },
 "nbformat": 4,
 "nbformat_minor": 2
}
