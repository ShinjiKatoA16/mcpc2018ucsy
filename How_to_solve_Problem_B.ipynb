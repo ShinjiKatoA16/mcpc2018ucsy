{
 "cells": [
  {
   "cell_type": "markdown",
   "metadata": {},
   "source": [
    "# Binary Match Encryption\n",
    "\n",
    "Text string is given as a original text. Convert the text according to the following rule.\n",
    "\n",
    "- Convert each character in the original string to ascii code\n",
    "- Convert the ascii code to 8bit binary data\n",
    "- Seperate the 8bit data to 2bit ('00', '01', '10', '11')\n",
    "- If the 2bit data is '00', replace it to Perfect square, if it's '11', replace it to Prime number, if it's '01' or '10' Other number.\n",
    "\n",
    "The replacing integer N, ($2 \\le N \\lt 1000$), All integer (Perfect square, Prime, Other) must replace in the increasing order respectively and don't repeat.\n",
    "\n",
    "- Perfect square: 4, 9, 16, 25 ...\n",
    "- Prime: 2, 3, 5, 7 ...\n",
    "- Other: 6, 8, 10, 12 ..."
   ]
  },
  {
   "cell_type": "markdown",
   "metadata": {},
   "source": [
    "### Input\n",
    "\n",
    "- Integer: Number of test case\n",
    "    + String to be converted\n",
    "    \n",
    "### Output\n",
    "\n",
    "for each test case,\n",
    "\n",
    "- 'Case ' test-case-number ';' xx,xx,xx,xx ...  (xx: replacing integer)"
   ]
  },
  {
   "cell_type": "markdown",
   "metadata": {},
   "source": [
    "### Sample input\n",
    "\n",
    "```\n",
    "4\n",
    "A3\n",
    "2D\n",
    "4ab\n",
    "a4FA\n",
    "```\n",
    "\n",
    "### Sample output\n",
    "\n",
    "```\n",
    "Case 1: 6,4,9,8,16,2,25,3\n",
    "Case 2: 4,2,9,6,8,16,10,25\n",
    "Case 3: 4,2,6,9,8,10,16,12,14,15,25,18\n",
    "Case 4: 4,2,9,6,16,3,8,25,10,36,12,14,15,49,64,18\n",
    "```"
   ]
  },
  {
   "cell_type": "markdown",
   "metadata": {},
   "source": [
    "## 1st step, create table of Prime, Perfect Square and Other numbers\n",
    "\n",
    "**Sieve of Eratosthenes** is the efficient algorithm to find prime numbers in specific range.\n",
    "\n",
    "- Create sieve of Eratosthenes\n",
    "- Mark Perfect square number\n",
    "- Create list(or array) of Prime, Perfect and Other numbers"
   ]
  },
  {
   "cell_type": "code",
   "execution_count": 1,
   "metadata": {},
   "outputs": [],
   "source": [
    "MAX_N = 1000+1\n",
    "def sieve():\n",
    "    primes = list()\n",
    "    perfects = list()\n",
    "    others = list()\n",
    "    PRIME = 1\n",
    "    PERFECT = 2\n",
    "    OTHER = 0\n",
    "\n",
    "    p_num = [PRIME for i in range(MAX_N)]\n",
    "    p_num[0] = p_num[1] = OTHER\n",
    "\n",
    "    for n in range(2, MAX_N):\n",
    "        if p_num[n] == PRIME:\n",
    "            primes.append(n)\n",
    "            for mop in range(n*2, MAX_N, n):\n",
    "                p_num[mop] = OTHER\n",
    "\n",
    "    for n in range(2, MAX_N):\n",
    "        if n*n < MAX_N:\n",
    "            perfects.append(n*n)\n",
    "            p_num[n*n] = PERFECT\n",
    "        if p_num[n] == OTHER:\n",
    "            others.append(n)\n",
    "\n",
    "\n",
    "    #print('Prime:', primes)\n",
    "    #print('Pefects:', perfects)\n",
    "    #print('Others:', others)\n",
    "    return primes, perfects, others"
   ]
  },
  {
   "cell_type": "code",
   "execution_count": 2,
   "metadata": {},
   "outputs": [
    {
     "name": "stdout",
     "output_type": "stream",
     "text": [
      "Prime: [2, 3, 5, 7, 11, 13, 17, 19, 23, 29, 31, 37, 41, 43, 47, 53, 59, 61, 67, 71, 73, 79, 83, 89, 97, 101, 103, 107, 109, 113, 127, 131, 137, 139, 149, 151, 157, 163, 167, 173, 179, 181, 191, 193, 197, 199, 211, 223, 227, 229, 233, 239, 241, 251, 257, 263, 269, 271, 277, 281, 283, 293, 307, 311, 313, 317, 331, 337, 347, 349, 353, 359, 367, 373, 379, 383, 389, 397, 401, 409, 419, 421, 431, 433, 439, 443, 449, 457, 461, 463, 467, 479, 487, 491, 499, 503, 509, 521, 523, 541, 547, 557, 563, 569, 571, 577, 587, 593, 599, 601, 607, 613, 617, 619, 631, 641, 643, 647, 653, 659, 661, 673, 677, 683, 691, 701, 709, 719, 727, 733, 739, 743, 751, 757, 761, 769, 773, 787, 797, 809, 811, 821, 823, 827, 829, 839, 853, 857, 859, 863, 877, 881, 883, 887, 907, 911, 919, 929, 937, 941, 947, 953, 967, 971, 977, 983, 991, 997]\n",
      "Perfect square: [4, 9, 16, 25, 36, 49, 64, 81, 100, 121, 144, 169, 196, 225, 256, 289, 324, 361, 400, 441, 484, 529, 576, 625, 676, 729, 784, 841, 900, 961]\n",
      "Others: [6, 8, 10, 12, 14, 15, 18, 20, 21, 22, 24, 26, 27, 28, 30, 32, 33, 34, 35, 38, 39, 40, 42, 44, 45, 46, 48, 50, 51, 52, 54, 55, 56, 57, 58, 60, 62, 63, 65, 66, 68, 69, 70, 72, 74, 75, 76, 77, 78, 80, 82, 84, 85, 86, 87, 88, 90, 91, 92, 93, 94, 95, 96, 98, 99, 102, 104, 105, 106, 108, 110, 111, 112, 114, 115, 116, 117, 118, 119, 120, 122, 123, 124, 125, 126, 128, 129, 130, 132, 133, 134, 135, 136, 138, 140, 141, 142, 143, 145, 146, 147, 148, 150, 152, 153, 154, 155, 156, 158, 159, 160, 161, 162, 164, 165, 166, 168, 170, 171, 172, 174, 175, 176, 177, 178, 180, 182, 183, 184, 185, 186, 187, 188, 189, 190, 192, 194, 195, 198, 200, 201, 202, 203, 204, 205, 206, 207, 208, 209, 210, 212, 213, 214, 215, 216, 217, 218, 219, 220, 221, 222, 224, 226, 228, 230, 231, 232, 234, 235, 236, 237, 238, 240, 242, 243, 244, 245, 246, 247, 248, 249, 250, 252, 253, 254, 255, 258, 259, 260, 261, 262, 264, 265, 266, 267, 268, 270, 272, 273, 274, 275, 276, 278, 279, 280, 282, 284, 285, 286, 287, 288, 290, 291, 292, 294, 295, 296, 297, 298, 299, 300, 301, 302, 303, 304, 305, 306, 308, 309, 310, 312, 314, 315, 316, 318, 319, 320, 321, 322, 323, 325, 326, 327, 328, 329, 330, 332, 333, 334, 335, 336, 338, 339, 340, 341, 342, 343, 344, 345, 346, 348, 350, 351, 352, 354, 355, 356, 357, 358, 360, 362, 363, 364, 365, 366, 368, 369, 370, 371, 372, 374, 375, 376, 377, 378, 380, 381, 382, 384, 385, 386, 387, 388, 390, 391, 392, 393, 394, 395, 396, 398, 399, 402, 403, 404, 405, 406, 407, 408, 410, 411, 412, 413, 414, 415, 416, 417, 418, 420, 422, 423, 424, 425, 426, 427, 428, 429, 430, 432, 434, 435, 436, 437, 438, 440, 442, 444, 445, 446, 447, 448, 450, 451, 452, 453, 454, 455, 456, 458, 459, 460, 462, 464, 465, 466, 468, 469, 470, 471, 472, 473, 474, 475, 476, 477, 478, 480, 481, 482, 483, 485, 486, 488, 489, 490, 492, 493, 494, 495, 496, 497, 498, 500, 501, 502, 504, 505, 506, 507, 508, 510, 511, 512, 513, 514, 515, 516, 517, 518, 519, 520, 522, 524, 525, 526, 527, 528, 530, 531, 532, 533, 534, 535, 536, 537, 538, 539, 540, 542, 543, 544, 545, 546, 548, 549, 550, 551, 552, 553, 554, 555, 556, 558, 559, 560, 561, 562, 564, 565, 566, 567, 568, 570, 572, 573, 574, 575, 578, 579, 580, 581, 582, 583, 584, 585, 586, 588, 589, 590, 591, 592, 594, 595, 596, 597, 598, 600, 602, 603, 604, 605, 606, 608, 609, 610, 611, 612, 614, 615, 616, 618, 620, 621, 622, 623, 624, 626, 627, 628, 629, 630, 632, 633, 634, 635, 636, 637, 638, 639, 640, 642, 644, 645, 646, 648, 649, 650, 651, 652, 654, 655, 656, 657, 658, 660, 662, 663, 664, 665, 666, 667, 668, 669, 670, 671, 672, 674, 675, 678, 679, 680, 681, 682, 684, 685, 686, 687, 688, 689, 690, 692, 693, 694, 695, 696, 697, 698, 699, 700, 702, 703, 704, 705, 706, 707, 708, 710, 711, 712, 713, 714, 715, 716, 717, 718, 720, 721, 722, 723, 724, 725, 726, 728, 730, 731, 732, 734, 735, 736, 737, 738, 740, 741, 742, 744, 745, 746, 747, 748, 749, 750, 752, 753, 754, 755, 756, 758, 759, 760, 762, 763, 764, 765, 766, 767, 768, 770, 771, 772, 774, 775, 776, 777, 778, 779, 780, 781, 782, 783, 785, 786, 788, 789, 790, 791, 792, 793, 794, 795, 796, 798, 799, 800, 801, 802, 803, 804, 805, 806, 807, 808, 810, 812, 813, 814, 815, 816, 817, 818, 819, 820, 822, 824, 825, 826, 828, 830, 831, 832, 833, 834, 835, 836, 837, 838, 840, 842, 843, 844, 845, 846, 847, 848, 849, 850, 851, 852, 854, 855, 856, 858, 860, 861, 862, 864, 865, 866, 867, 868, 869, 870, 871, 872, 873, 874, 875, 876, 878, 879, 880, 882, 884, 885, 886, 888, 889, 890, 891, 892, 893, 894, 895, 896, 897, 898, 899, 901, 902, 903, 904, 905, 906, 908, 909, 910, 912, 913, 914, 915, 916, 917, 918, 920, 921, 922, 923, 924, 925, 926, 927, 928, 930, 931, 932, 933, 934, 935, 936, 938, 939, 940, 942, 943, 944, 945, 946, 948, 949, 950, 951, 952, 954, 955, 956, 957, 958, 959, 960, 962, 963, 964, 965, 966, 968, 969, 970, 972, 973, 974, 975, 976, 978, 979, 980, 981, 982, 984, 985, 986, 987, 988, 989, 990, 992, 993, 994, 995, 996, 998, 999, 1000]\n"
     ]
    }
   ],
   "source": [
    "# Test\n",
    "\n",
    "primes, perfects, others = sieve()\n",
    "print('Prime:', primes)\n",
    "print('Perfect square:', perfects)\n",
    "print('Others:', others)"
   ]
  },
  {
   "cell_type": "markdown",
   "metadata": {},
   "source": [
    "## 2nd step: Convert string to character then ASCII code\n",
    "\n",
    "- C/C++: Nothing to do. String is a array of character, and each character is 8bit integer of ASCII code.\n",
    "- Python: ord() function can convert the chracter(string length=1) to ascii code\n",
    "- Java: Convert string to character, then cast to integer. **charAt()** or **toCharArray()** method can be used"
   ]
  },
  {
   "cell_type": "markdown",
   "metadata": {},
   "source": [
    "## 3rd step: Convert the ASCII code to binary\n",
    "\n",
    "- Python: bin() function returns the string that represent binary data\n",
    "- Java/C++: there may be a function similar to Python, but it may be easier to handle the data directly"
   ]
  },
  {
   "cell_type": "code",
   "execution_count": null,
   "metadata": {},
   "outputs": [],
   "source": [
    "#!/usr/bin/python3\n",
    "# -*- coding: utf-8 -*-\n",
    "\n",
    "import sys\n",
    "\n",
    "MAX_N = 1000+1\n",
    "def sieve():\n",
    "    primes = list()\n",
    "    perfects = list()\n",
    "    others = list()\n",
    "    PRIME = 1\n",
    "    PERFECT = 2\n",
    "    OTHER = 0\n",
    "\n",
    "    p_num = [PRIME for i in range(MAX_N)]\n",
    "    p_num[0] = p_num[1] = OTHER \n",
    "\n",
    "    for n in range(2, MAX_N):\n",
    "        if p_num[n] == PRIME:\n",
    "            primes.append(n)\n",
    "            for mop in range(n*2, MAX_N, n):\n",
    "                p_num[mop] = OTHER \n",
    "\n",
    "    for n in range(2, MAX_N):\n",
    "        if n*n < MAX_N:\n",
    "            perfects.append(n*n)\n",
    "            p_num[n*n] = PERFECT\n",
    "        if p_num[n] == OTHER:\n",
    "            others.append(n)\n",
    "\n",
    "\n",
    "    #print('Prime:', primes)\n",
    "    #print('Pefects:', perfects)\n",
    "    #print('Others:', others)\n",
    "    return primes, perfects, others\n",
    "\n",
    "\n",
    "primes, perfects, others = sieve()\n",
    "\n",
    "num_tc = int(sys.stdin.readline())\n",
    "for tc in range(num_tc):\n",
    "    prime_idx = perfect_idx = other_idx = 0\n",
    "    s = sys.stdin.readline().strip()  # remove \\n\n",
    "    print('Case {}:'.format(tc+1), end=' ')\n",
    "\n",
    "    out_s = list()\n",
    "    for c in s:\n",
    "        c_bin = bin(ord(c))[2:]\n",
    "        c_bin = '00000000'[:8-len(c_bin)] + c_bin\n",
    "        for pos in range(0,8,2):  # 8bit / 2\n",
    "            if c_bin[pos:pos+2] == '00':\n",
    "                out_s.append(str(perfects[perfect_idx]))\n",
    "                perfect_idx += 1\n",
    "            elif c_bin[pos:pos+2] == '11':\n",
    "                out_s.append(str(primes[prime_idx]))\n",
    "                prime_idx += 1\n",
    "            else:\n",
    "                out_s.append(str(others[other_idx]))\n",
    "                other_idx += 1\n",
    "\n",
    "    print(','.join(out_s))"
   ]
  }
 ],
 "metadata": {
  "kernelspec": {
   "display_name": "Python 3",
   "language": "python",
   "name": "python3"
  },
  "language_info": {
   "codemirror_mode": {
    "name": "ipython",
    "version": 3
   },
   "file_extension": ".py",
   "mimetype": "text/x-python",
   "name": "python",
   "nbconvert_exporter": "python",
   "pygments_lexer": "ipython3",
   "version": "3.6.5"
  }
 },
 "nbformat": 4,
 "nbformat_minor": 2
}
